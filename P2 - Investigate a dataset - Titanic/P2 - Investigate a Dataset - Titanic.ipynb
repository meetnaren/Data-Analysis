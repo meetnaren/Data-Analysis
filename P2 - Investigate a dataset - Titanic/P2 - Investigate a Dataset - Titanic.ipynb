{
 "cells": [
  {
   "cell_type": "markdown",
   "metadata": {
    "collapsed": true
   },
   "source": [
    "# A. Introduction\n",
    "For this project, we are tasked with choosing a dataset and investigating it to arrive at conclusions about the data. I have chosen the Titanic Survivor dataset for this project. This dataset contains data about the characteristics of the passengers of the Titanic vessel, such as Gender, class, ticket fare, whether they survived or not, etc.\n",
    "\n",
    "A cursory look at the dataset presents us with questions such as:\n",
    "* Did gender play a significant role in determining whether one survived or not?\n",
    "* Did class play a significant role in determining whether one survived or not?\n",
    "* Did age group play a significant role in determining whether one survived or not?\n",
    "* Did family size play a significant role in determining whether one survived or not?\n",
    "\n",
    "We will try to answer these questions in our analysis below.\n",
    "\n",
    "# B. Data Wrangling\n",
    "Let us investigate the dataset to learn the formats of the data, inconsistencies in the data and if any cleanup is required.\n",
    "\n",
    "## B.1 Loading the dataset"
   ]
  },
  {
   "cell_type": "code",
   "execution_count": 538,
   "metadata": {
    "collapsed": false
   },
   "outputs": [
    {
     "name": "stdout",
     "output_type": "stream",
     "text": [
      "Populating the interactive namespace from numpy and matplotlib\n"
     ]
    },
    {
     "data": {
      "text/html": [
       "<div>\n",
       "<table border=\"1\" class=\"dataframe\">\n",
       "  <thead>\n",
       "    <tr style=\"text-align: right;\">\n",
       "      <th></th>\n",
       "      <th>PassengerId</th>\n",
       "      <th>Survived</th>\n",
       "      <th>Pclass</th>\n",
       "      <th>Name</th>\n",
       "      <th>Sex</th>\n",
       "      <th>Age</th>\n",
       "      <th>SibSp</th>\n",
       "      <th>Parch</th>\n",
       "      <th>Ticket</th>\n",
       "      <th>Fare</th>\n",
       "      <th>Cabin</th>\n",
       "      <th>Embarked</th>\n",
       "    </tr>\n",
       "  </thead>\n",
       "  <tbody>\n",
       "    <tr>\n",
       "      <th>0</th>\n",
       "      <td>1</td>\n",
       "      <td>0</td>\n",
       "      <td>3</td>\n",
       "      <td>Braund, Mr. Owen Harris</td>\n",
       "      <td>male</td>\n",
       "      <td>22.0</td>\n",
       "      <td>1</td>\n",
       "      <td>0</td>\n",
       "      <td>A/5 21171</td>\n",
       "      <td>7.2500</td>\n",
       "      <td>NaN</td>\n",
       "      <td>S</td>\n",
       "    </tr>\n",
       "    <tr>\n",
       "      <th>1</th>\n",
       "      <td>2</td>\n",
       "      <td>1</td>\n",
       "      <td>1</td>\n",
       "      <td>Cumings, Mrs. John Bradley (Florence Briggs Th...</td>\n",
       "      <td>female</td>\n",
       "      <td>38.0</td>\n",
       "      <td>1</td>\n",
       "      <td>0</td>\n",
       "      <td>PC 17599</td>\n",
       "      <td>71.2833</td>\n",
       "      <td>C85</td>\n",
       "      <td>C</td>\n",
       "    </tr>\n",
       "    <tr>\n",
       "      <th>2</th>\n",
       "      <td>3</td>\n",
       "      <td>1</td>\n",
       "      <td>3</td>\n",
       "      <td>Heikkinen, Miss. Laina</td>\n",
       "      <td>female</td>\n",
       "      <td>26.0</td>\n",
       "      <td>0</td>\n",
       "      <td>0</td>\n",
       "      <td>STON/O2. 3101282</td>\n",
       "      <td>7.9250</td>\n",
       "      <td>NaN</td>\n",
       "      <td>S</td>\n",
       "    </tr>\n",
       "    <tr>\n",
       "      <th>3</th>\n",
       "      <td>4</td>\n",
       "      <td>1</td>\n",
       "      <td>1</td>\n",
       "      <td>Futrelle, Mrs. Jacques Heath (Lily May Peel)</td>\n",
       "      <td>female</td>\n",
       "      <td>35.0</td>\n",
       "      <td>1</td>\n",
       "      <td>0</td>\n",
       "      <td>113803</td>\n",
       "      <td>53.1000</td>\n",
       "      <td>C123</td>\n",
       "      <td>S</td>\n",
       "    </tr>\n",
       "    <tr>\n",
       "      <th>4</th>\n",
       "      <td>5</td>\n",
       "      <td>0</td>\n",
       "      <td>3</td>\n",
       "      <td>Allen, Mr. William Henry</td>\n",
       "      <td>male</td>\n",
       "      <td>35.0</td>\n",
       "      <td>0</td>\n",
       "      <td>0</td>\n",
       "      <td>373450</td>\n",
       "      <td>8.0500</td>\n",
       "      <td>NaN</td>\n",
       "      <td>S</td>\n",
       "    </tr>\n",
       "  </tbody>\n",
       "</table>\n",
       "</div>"
      ],
      "text/plain": [
       "   PassengerId  Survived  Pclass  \\\n",
       "0            1         0       3   \n",
       "1            2         1       1   \n",
       "2            3         1       3   \n",
       "3            4         1       1   \n",
       "4            5         0       3   \n",
       "\n",
       "                                                Name     Sex   Age  SibSp  \\\n",
       "0                            Braund, Mr. Owen Harris    male  22.0      1   \n",
       "1  Cumings, Mrs. John Bradley (Florence Briggs Th...  female  38.0      1   \n",
       "2                             Heikkinen, Miss. Laina  female  26.0      0   \n",
       "3       Futrelle, Mrs. Jacques Heath (Lily May Peel)  female  35.0      1   \n",
       "4                           Allen, Mr. William Henry    male  35.0      0   \n",
       "\n",
       "   Parch            Ticket     Fare Cabin Embarked  \n",
       "0      0         A/5 21171   7.2500   NaN        S  \n",
       "1      0          PC 17599  71.2833   C85        C  \n",
       "2      0  STON/O2. 3101282   7.9250   NaN        S  \n",
       "3      0            113803  53.1000  C123        S  \n",
       "4      0            373450   8.0500   NaN        S  "
      ]
     },
     "execution_count": 538,
     "metadata": {},
     "output_type": "execute_result"
    }
   ],
   "source": [
    "#importing required modules\n",
    "import csv\n",
    "import numpy as np\n",
    "import pandas as pd\n",
    "import scipy as sp\n",
    "import matplotlib.pyplot as plt\n",
    "import seaborn as sns\n",
    "\n",
    "%matplotlib inline\n",
    "%pylab inline\n",
    "sns.set_style(\"dark\")\n",
    "\n",
    "titanic=pd.read_csv(\"titanic-data.csv\")\n",
    "titanic.head()"
   ]
  },
  {
   "cell_type": "markdown",
   "metadata": {},
   "source": [
    "The dataset has been loaded successfully. \n",
    "Let us look at our factors of interest for this project: Gender, Age and Pclass."
   ]
  },
  {
   "cell_type": "code",
   "execution_count": 539,
   "metadata": {
    "collapsed": false
   },
   "outputs": [
    {
     "data": {
      "text/html": [
       "<div>\n",
       "<table border=\"1\" class=\"dataframe\">\n",
       "  <thead>\n",
       "    <tr style=\"text-align: right;\">\n",
       "      <th></th>\n",
       "      <th>Sex</th>\n",
       "      <th>Age</th>\n",
       "      <th>Pclass</th>\n",
       "    </tr>\n",
       "  </thead>\n",
       "  <tbody>\n",
       "    <tr>\n",
       "      <th>count</th>\n",
       "      <td>891</td>\n",
       "      <td>714.000000</td>\n",
       "      <td>891.000000</td>\n",
       "    </tr>\n",
       "    <tr>\n",
       "      <th>unique</th>\n",
       "      <td>2</td>\n",
       "      <td>NaN</td>\n",
       "      <td>NaN</td>\n",
       "    </tr>\n",
       "    <tr>\n",
       "      <th>top</th>\n",
       "      <td>male</td>\n",
       "      <td>NaN</td>\n",
       "      <td>NaN</td>\n",
       "    </tr>\n",
       "    <tr>\n",
       "      <th>freq</th>\n",
       "      <td>577</td>\n",
       "      <td>NaN</td>\n",
       "      <td>NaN</td>\n",
       "    </tr>\n",
       "    <tr>\n",
       "      <th>mean</th>\n",
       "      <td>NaN</td>\n",
       "      <td>29.699118</td>\n",
       "      <td>2.308642</td>\n",
       "    </tr>\n",
       "    <tr>\n",
       "      <th>std</th>\n",
       "      <td>NaN</td>\n",
       "      <td>14.526497</td>\n",
       "      <td>0.836071</td>\n",
       "    </tr>\n",
       "    <tr>\n",
       "      <th>min</th>\n",
       "      <td>NaN</td>\n",
       "      <td>0.420000</td>\n",
       "      <td>1.000000</td>\n",
       "    </tr>\n",
       "    <tr>\n",
       "      <th>25%</th>\n",
       "      <td>NaN</td>\n",
       "      <td>20.125000</td>\n",
       "      <td>2.000000</td>\n",
       "    </tr>\n",
       "    <tr>\n",
       "      <th>50%</th>\n",
       "      <td>NaN</td>\n",
       "      <td>28.000000</td>\n",
       "      <td>3.000000</td>\n",
       "    </tr>\n",
       "    <tr>\n",
       "      <th>75%</th>\n",
       "      <td>NaN</td>\n",
       "      <td>38.000000</td>\n",
       "      <td>3.000000</td>\n",
       "    </tr>\n",
       "    <tr>\n",
       "      <th>max</th>\n",
       "      <td>NaN</td>\n",
       "      <td>80.000000</td>\n",
       "      <td>3.000000</td>\n",
       "    </tr>\n",
       "  </tbody>\n",
       "</table>\n",
       "</div>"
      ],
      "text/plain": [
       "         Sex         Age      Pclass\n",
       "count    891  714.000000  891.000000\n",
       "unique     2         NaN         NaN\n",
       "top     male         NaN         NaN\n",
       "freq     577         NaN         NaN\n",
       "mean     NaN   29.699118    2.308642\n",
       "std      NaN   14.526497    0.836071\n",
       "min      NaN    0.420000    1.000000\n",
       "25%      NaN   20.125000    2.000000\n",
       "50%      NaN   28.000000    3.000000\n",
       "75%      NaN   38.000000    3.000000\n",
       "max      NaN   80.000000    3.000000"
      ]
     },
     "execution_count": 539,
     "metadata": {},
     "output_type": "execute_result"
    }
   ],
   "source": [
    "titanic[['Sex','Age','Pclass']].describe(include='all')"
   ]
  },
  {
   "cell_type": "markdown",
   "metadata": {},
   "source": [
    "The Age column seems to have some missing values."
   ]
  },
  {
   "cell_type": "code",
   "execution_count": 540,
   "metadata": {
    "collapsed": false
   },
   "outputs": [
    {
     "data": {
      "text/plain": [
       "177"
      ]
     },
     "execution_count": 540,
     "metadata": {},
     "output_type": "execute_result"
    }
   ],
   "source": [
    "sum(titanic['Age'].isnull())"
   ]
  },
  {
   "cell_type": "markdown",
   "metadata": {},
   "source": [
    "177 records have missing values for Age. In order to fill in missing values, we can group the data and take the mean age of each group. \n",
    "\n",
    "## B.2 Missing data\n",
    "Let us look at the distribution of age based on different factors."
   ]
  },
  {
   "cell_type": "code",
   "execution_count": 541,
   "metadata": {
    "collapsed": false
   },
   "outputs": [
    {
     "data": {
      "image/png": "[encoded data removed]",
      "text/plain": [
       "<matplotlib.figure.Figure at 0x50b33358>"
      ]
     },
     "metadata": {},
     "output_type": "display_data"
    }
   ],
   "source": [
    "#This function is used to plot a bar chart of the median ages of different groups bsaed on the \"groupByField\"\n",
    "def groupByPlot(groupByField,aggregateField):\n",
    "    groupedDF=pd.DataFrame(titanic.groupby([groupByField])[aggregateField].mean()).reset_index()\n",
    "    \n",
    "    plt.bar(range(len(groupedDF)),groupedDF[aggregateField])\n",
    "    plt.xticks(range(len(groupedDF)),groupedDF.ix[:,0])\n",
    "    plt.ylabel(aggregateField)\n",
    "    plt.xlabel(groupByField)\n",
    "\n",
    "groupByPlot('Sex','Age')"
   ]
  },
  {
   "cell_type": "markdown",
   "metadata": {},
   "source": [
    "There isn't much difference in the ages between the male and female groups. Let us try other factors - Pclass, Parch and SibSp."
   ]
  },
  {
   "cell_type": "code",
   "execution_count": 542,
   "metadata": {
    "collapsed": false
   },
   "outputs": [
    {
     "data": {
      "image/png": "[encoded data removed]",
      "text/plain": [
       "<matplotlib.figure.Figure at 0x425fa780>"
      ]
     },
     "metadata": {},
     "output_type": "display_data"
    },
    {
     "data": {
      "image/png": "[encoded data removed]",
      "text/plain": [
       "<matplotlib.figure.Figure at 0x41fd2860>"
      ]
     },
     "metadata": {},
     "output_type": "display_data"
    },
    {
     "data": {
      "image/png": "[encoded data removed]",
      "text/plain": [
       "<matplotlib.figure.Figure at 0x50d5cc18>"
      ]
     },
     "metadata": {},
     "output_type": "display_data"
    }
   ],
   "source": [
    "plt.figure(1)\n",
    "groupByPlot('Pclass','Age')\n",
    "\n",
    "plt.figure(2)\n",
    "groupByPlot('Parch','Age')\n",
    "\n",
    "plt.figure(3)\n",
    "groupByPlot('SibSp','Age')"
   ]
  },
  {
   "cell_type": "markdown",
   "metadata": {},
   "source": [
    "Looking at these graphs, it appears that Parch may be a good factor to determine the missing ages. SibSp could not be used as it has some groups where all records have missing values for Age column."
   ]
  },
  {
   "cell_type": "code",
   "execution_count": 543,
   "metadata": {
    "collapsed": false
   },
   "outputs": [
    {
     "data": {
      "text/plain": [
       "Parch\n",
       "0    32.178503\n",
       "1    24.422000\n",
       "2    17.216912\n",
       "3    33.200000\n",
       "4    44.500000\n",
       "5    39.200000\n",
       "6    43.000000\n",
       "Name: Age, dtype: float64"
      ]
     },
     "metadata": {},
     "output_type": "display_data"
    },
    {
     "name": "stdout",
     "output_type": "stream",
     "text": [
      "<class 'pandas.core.frame.DataFrame'>\n",
      "RangeIndex: 891 entries, 0 to 890\n",
      "Data columns (total 12 columns):\n",
      "PassengerId    891 non-null int64\n",
      "Survived       891 non-null int64\n",
      "Pclass         891 non-null int64\n",
      "Name           891 non-null object\n",
      "Sex            891 non-null object\n",
      "Age            891 non-null float64\n",
      "SibSp          891 non-null int64\n",
      "Parch          891 non-null int64\n",
      "Ticket         891 non-null object\n",
      "Fare           891 non-null float64\n",
      "Cabin          204 non-null object\n",
      "Embarked       889 non-null object\n",
      "dtypes: float64(2), int64(5), object(5)\n",
      "memory usage: 83.6+ KB\n"
     ]
    },
    {
     "data": {
      "text/plain": [
       "Parch\n",
       "0    32.178503\n",
       "1    24.422000\n",
       "2    17.216912\n",
       "3    33.200000\n",
       "4    44.500000\n",
       "5    39.200000\n",
       "6    43.000000\n",
       "Name: Age, dtype: float64"
      ]
     },
     "metadata": {},
     "output_type": "display_data"
    }
   ],
   "source": [
    "groupedDF=titanic.groupby(['Parch'])['Age'].mean()\n",
    "display(groupedDF)\n",
    "def fillMissingAges(record):\n",
    "    if pd.isnull(record['Age']):\n",
    "        record['Age']=groupedDF[record['Parch']]\n",
    "\n",
    "    return record\n",
    "\n",
    "titanic=titanic.apply(fillMissingAges,axis=1)\n",
    "titanic.info()\n",
    "display(titanic.groupby(['Parch'])['Age'].mean())"
   ]
  },
  {
   "cell_type": "markdown",
   "metadata": {},
   "source": [
    "We can see that the missing Ages have been filled up and the mean is preserved for each Parch group."
   ]
  },
  {
   "cell_type": "markdown",
   "metadata": {},
   "source": [
    "## B.3 Remove unwanted data\n",
    "The only columns we need for our analysis based on the questions we raised are:\n",
    "* Survived\n",
    "* Pclass\n",
    "* Sex\n",
    "* Age\n",
    "* SibSp\n",
    "* Parch\n",
    "\n",
    "We can remove the other columns from the dataframe."
   ]
  },
  {
   "cell_type": "code",
   "execution_count": 544,
   "metadata": {
    "collapsed": false
   },
   "outputs": [],
   "source": [
    "titanic=titanic.drop(['PassengerId','Name','Ticket','Cabin','Embarked','Fare'],axis=1)"
   ]
  },
  {
   "cell_type": "markdown",
   "metadata": {},
   "source": [
    "## B.4 Modifying data\n",
    "### B.4.1 Age Groups\n",
    "The Age column contains continuous numeric information that may be more useful if available in a categorical form. Let us investigate the Age column:"
   ]
  },
  {
   "cell_type": "code",
   "execution_count": 545,
   "metadata": {
    "collapsed": false
   },
   "outputs": [
    {
     "data": {
      "text/plain": [
       "count    891.000000\n",
       "mean      29.920509\n",
       "std       13.131596\n",
       "min        0.420000\n",
       "25%       22.000000\n",
       "50%       31.000000\n",
       "75%       35.000000\n",
       "max       80.000000\n",
       "Name: Age, dtype: float64"
      ]
     },
     "execution_count": 545,
     "metadata": {},
     "output_type": "execute_result"
    }
   ],
   "source": [
    "titanic['Age'].describe()"
   ]
  },
  {
   "cell_type": "markdown",
   "metadata": {},
   "source": [
    "The Age ranges from 0 to 80 in the dataset. I will create a new column called AgeGroup, and transform the Age data into categorical format using the cut function, with intervals of 10 years."
   ]
  },
  {
   "cell_type": "code",
   "execution_count": 546,
   "metadata": {
    "collapsed": false
   },
   "outputs": [
    {
     "data": {
      "text/html": [
       "<div>\n",
       "<table border=\"1\" class=\"dataframe\">\n",
       "  <thead>\n",
       "    <tr style=\"text-align: right;\">\n",
       "      <th></th>\n",
       "      <th>AgeGroup</th>\n",
       "      <th>Survived</th>\n",
       "      <th>Pclass</th>\n",
       "      <th>Sex</th>\n",
       "      <th>Age</th>\n",
       "      <th>SibSp</th>\n",
       "      <th>Parch</th>\n",
       "    </tr>\n",
       "  </thead>\n",
       "  <tbody>\n",
       "    <tr>\n",
       "      <th>0</th>\n",
       "      <td>0 - 10</td>\n",
       "      <td>64</td>\n",
       "      <td>64</td>\n",
       "      <td>64</td>\n",
       "      <td>64</td>\n",
       "      <td>64</td>\n",
       "      <td>64</td>\n",
       "    </tr>\n",
       "    <tr>\n",
       "      <th>1</th>\n",
       "      <td>10 - 20</td>\n",
       "      <td>127</td>\n",
       "      <td>127</td>\n",
       "      <td>127</td>\n",
       "      <td>127</td>\n",
       "      <td>127</td>\n",
       "      <td>127</td>\n",
       "    </tr>\n",
       "    <tr>\n",
       "      <th>2</th>\n",
       "      <td>20 - 30</td>\n",
       "      <td>238</td>\n",
       "      <td>238</td>\n",
       "      <td>238</td>\n",
       "      <td>238</td>\n",
       "      <td>238</td>\n",
       "      <td>238</td>\n",
       "    </tr>\n",
       "    <tr>\n",
       "      <th>3</th>\n",
       "      <td>30 - 40</td>\n",
       "      <td>312</td>\n",
       "      <td>312</td>\n",
       "      <td>312</td>\n",
       "      <td>312</td>\n",
       "      <td>312</td>\n",
       "      <td>312</td>\n",
       "    </tr>\n",
       "    <tr>\n",
       "      <th>4</th>\n",
       "      <td>40 - 50</td>\n",
       "      <td>86</td>\n",
       "      <td>86</td>\n",
       "      <td>86</td>\n",
       "      <td>86</td>\n",
       "      <td>86</td>\n",
       "      <td>86</td>\n",
       "    </tr>\n",
       "    <tr>\n",
       "      <th>5</th>\n",
       "      <td>50 - 60</td>\n",
       "      <td>42</td>\n",
       "      <td>42</td>\n",
       "      <td>42</td>\n",
       "      <td>42</td>\n",
       "      <td>42</td>\n",
       "      <td>42</td>\n",
       "    </tr>\n",
       "    <tr>\n",
       "      <th>6</th>\n",
       "      <td>60 - 70</td>\n",
       "      <td>17</td>\n",
       "      <td>17</td>\n",
       "      <td>17</td>\n",
       "      <td>17</td>\n",
       "      <td>17</td>\n",
       "      <td>17</td>\n",
       "    </tr>\n",
       "    <tr>\n",
       "      <th>7</th>\n",
       "      <td>70 - 80</td>\n",
       "      <td>5</td>\n",
       "      <td>5</td>\n",
       "      <td>5</td>\n",
       "      <td>5</td>\n",
       "      <td>5</td>\n",
       "      <td>5</td>\n",
       "    </tr>\n",
       "  </tbody>\n",
       "</table>\n",
       "</div>"
      ],
      "text/plain": [
       "  AgeGroup  Survived  Pclass  Sex  Age  SibSp  Parch\n",
       "0   0 - 10        64      64   64   64     64     64\n",
       "1  10 - 20       127     127  127  127    127    127\n",
       "2  20 - 30       238     238  238  238    238    238\n",
       "3  30 - 40       312     312  312  312    312    312\n",
       "4  40 - 50        86      86   86   86     86     86\n",
       "5  50 - 60        42      42   42   42     42     42\n",
       "6  60 - 70        17      17   17   17     17     17\n",
       "7  70 - 80         5       5    5    5      5      5"
      ]
     },
     "execution_count": 546,
     "metadata": {},
     "output_type": "execute_result"
    }
   ],
   "source": [
    "ageLabels=[str(i)+\" - \"+str(i+10) for i in range(0,71,10)]\n",
    "titanic['AgeGroup']=pd.cut(titanic['Age'],range(0,81,10),labels=ageLabels)\n",
    "titanic.groupby(['AgeGroup']).count().reset_index()"
   ]
  },
  {
   "cell_type": "markdown",
   "metadata": {},
   "source": [
    "### B.4.2 Family Size\n",
    "We can create a FamilySize column to indicate the size of the family. The family size can calculated by adding the Parch and SibSp columns."
   ]
  },
  {
   "cell_type": "code",
   "execution_count": 547,
   "metadata": {
    "collapsed": true
   },
   "outputs": [],
   "source": [
    "titanic['FamilySize'] = titanic['Parch']+titanic['SibSp']"
   ]
  },
  {
   "cell_type": "markdown",
   "metadata": {},
   "source": [
    "# C. Data Exploration\n",
    "Before we start, it is good to have an idea of the total number of survivors in the sample provided."
   ]
  },
  {
   "cell_type": "code",
   "execution_count": 548,
   "metadata": {
    "collapsed": false
   },
   "outputs": [
    {
     "data": {
      "text/plain": [
       "342"
      ]
     },
     "metadata": {},
     "output_type": "display_data"
    },
    {
     "data": {
      "text/plain": [
       "0.38383838383838381"
      ]
     },
     "metadata": {},
     "output_type": "display_data"
    }
   ],
   "source": [
    "display(sum(titanic['Survived']))\n",
    "display(sum(titanic['Survived'])*1.0/len(titanic))"
   ]
  },
  {
   "cell_type": "markdown",
   "metadata": {},
   "source": [
    "342 out of 891 survived, giving a survival rate of 38.38%.\n",
    "\n",
    "Let us visualize the data using charts to develop some intuition before running statistical tests to confirm our intuitions."
   ]
  },
  {
   "cell_type": "code",
   "execution_count": 549,
   "metadata": {
    "collapsed": false
   },
   "outputs": [
    {
     "data": {
      "text/plain": [
       "<matplotlib.axes._subplots.AxesSubplot at 0x40fe46d8>"
      ]
     },
     "execution_count": 549,
     "metadata": {},
     "output_type": "execute_result"
    },
    {
     "data": {
      "image/png": "[encoded data removed]",
      "text/plain": [
       "<matplotlib.figure.Figure at 0x4f4bd7f0>"
      ]
     },
     "metadata": {},
     "output_type": "display_data"
    },
    {
     "data": {
      "image/png": "[encoded data removed]",
      "text/plain": [
       "<matplotlib.figure.Figure at 0x425fae48>"
      ]
     },
     "metadata": {},
     "output_type": "display_data"
    },
    {
     "data": {
      "image/png": "[encoded data removed]",
      "text/plain": [
       "<matplotlib.figure.Figure at 0x4c3bb1d0>"
      ]
     },
     "metadata": {},
     "output_type": "display_data"
    },
    {
     "data": {
      "image/png": "[encoded data removed]",
      "text/plain": [
       "<matplotlib.figure.Figure at 0x4d7b7908>"
      ]
     },
     "metadata": {},
     "output_type": "display_data"
    }
   ],
   "source": [
    "plt.figure(1)\n",
    "sns.barplot('Sex','Survived',data=titanic,palette='Blues_d')\n",
    "plt.figure(2)\n",
    "sns.barplot('Pclass','Survived',data=titanic,palette='Blues_d')\n",
    "plt.figure(3)\n",
    "sns.barplot('AgeGroup','Survived',data=titanic,palette='Blues_d')\n",
    "plt.figure(4)\n",
    "sns.barplot('FamilySize','Survived',data=titanic,palette='Blues_d')"
   ]
  },
  {
   "cell_type": "markdown",
   "metadata": {},
   "source": [
    "Looking at these charts, we can develop the following intuitions about the impact of various factors on probability of survival. We will conduct statistical tests to confirm these in the following sections.\n",
    "* Females were given the priority over males\n",
    "* First class passengers had higher preference over second class, who in turn had higher preference over third class\n",
    "* Children (age 0-10) were given first preference over all the other age groups\n",
    "* Families of size 3 had the highest chances of survival - this makes sense since women and children were preferred to other groups.\n",
    "\n",
    "Let us look at some blended charts to see the effect of multiple factors on survival at the same time."
   ]
  },
  {
   "cell_type": "code",
   "execution_count": 550,
   "metadata": {
    "collapsed": false
   },
   "outputs": [
    {
     "data": {
      "text/plain": [
       "<matplotlib.axes._subplots.AxesSubplot at 0x4be12c18>"
      ]
     },
     "execution_count": 550,
     "metadata": {},
     "output_type": "execute_result"
    },
    {
     "data": {
      "image/png": "[encoded data removed]",
      "text/plain": [
       "<matplotlib.figure.Figure at 0x4e669da0>"
      ]
     },
     "metadata": {},
     "output_type": "display_data"
    },
    {
     "data": {
      "image/png": "[encoded data removed]",
      "text/plain": [
       "<matplotlib.figure.Figure at 0x4a5badd8>"
      ]
     },
     "metadata": {},
     "output_type": "display_data"
    },
    {
     "data": {
      "image/png": "[encoded data removed]",
      "text/plain": [
       "<matplotlib.figure.Figure at 0x4721e208>"
      ]
     },
     "metadata": {},
     "output_type": "display_data"
    },
    {
     "data": {
      "image/png": "[encoded data removed]",
      "text/plain": [
       "<matplotlib.figure.Figure at 0x4c64f908>"
      ]
     },
     "metadata": {},
     "output_type": "display_data"
    }
   ],
   "source": [
    "plt.figure(1)\n",
    "sns.barplot('Pclass','Survived',hue='Sex',data=titanic,palette='Blues_d')\n",
    "plt.figure(2)\n",
    "sns.barplot('AgeGroup','Survived',hue='Sex',data=titanic,palette='Blues_d')\n",
    "plt.figure(3)\n",
    "sns.barplot('AgeGroup','Survived',hue='Pclass',data=titanic,palette='Blues_d')\n",
    "plt.figure(4)\n",
    "sns.barplot('FamilySize','Survived',hue='Sex',data=titanic,palette='Blues_d')"
   ]
  },
  {
   "cell_type": "markdown",
   "metadata": {},
   "source": [
    "Look at these graphs, we can infer the following:\n",
    "* The preference for females over males for survival seems to exist any which way we slice the data - across different classes, age groups and family sizes\n",
    "* We previously saw that children within the ages 0-10 were favored over other age groups. But on looking further, females in the all age groups seem to have had higher probability of survival\n",
    "* Looking at the different age groups grouped by class, it seems children from second class had a very high chance of survival (all children in age group 0-10 from second class survived)\n",
    "* Finally, while we saw that a family size of 3 had the highest chances of survival, females from families of size up to 3 had higher chances of survival than the others\n",
    "\n",
    "All these graphs assert that the \"women and children first\" policy was strictly enforced during the evacuation of the ship$^2$.\n",
    "\n",
    "Let us run some statistical tests to either confirm or reject some these inferences and to answer the questions we raised initially."
   ]
  },
  {
   "cell_type": "markdown",
   "metadata": {},
   "source": [
    "## C.1 Gender\n",
    "Did gender play an important role in determining whether one survived or not?\n",
    "\n",
    "The dependent variable is 'Survived' and the independent variable is 'Sex'. The null and alternative hypotheses are given below.\n",
    "\n",
    "* H$_0$: Probability of survival and Gender are independent\n",
    "\n",
    "* H$_A$: Probability of survival and Gender are not independent\n",
    "\n",
    "Since both are categorical variables, we can run a chi-squared test for this purpose$^1$."
   ]
  },
  {
   "cell_type": "code",
   "execution_count": 551,
   "metadata": {
    "collapsed": false
   },
   "outputs": [
    {
     "data": {
      "text/plain": [
       "'Chi-squared Test statistic : 260.717020167'"
      ]
     },
     "metadata": {},
     "output_type": "display_data"
    },
    {
     "data": {
      "text/plain": [
       "'p-value                    : 1.19735706278e-58'"
      ]
     },
     "metadata": {},
     "output_type": "display_data"
    }
   ],
   "source": [
    "#This function takes in the names of two columns form the titanic dataset on which we want to perform the Chi-squared test \n",
    "#It displays the test statistic and the p-value.\n",
    "def chisq_titanic(col1,col2):\n",
    "    contTable=pd.crosstab(titanic[col1],titanic[col2]).reset_index()\n",
    "    chi,p,dof,exp=sp.stats.chi2_contingency(contTable.ix[:,1:])\n",
    "    display(\"Chi-squared Test statistic : \"+str(chi))\n",
    "    display(\"p-value                    : \"+str(p))\n",
    "    return\n",
    "\n",
    "chisq_titanic('Survived','Sex')"
   ]
  },
  {
   "cell_type": "markdown",
   "metadata": {},
   "source": [
    "###### We can see the the p-value is lower than 0.05. We can reject the null hypothesis and conclude that probability of survival was dependent on gender."
   ]
  },
  {
   "cell_type": "markdown",
   "metadata": {},
   "source": [
    "## C.2 Pclass\n",
    "Did class play a significant role in determining whether one survived or not?\n",
    "\n",
    "The dependent variable is 'Survived' and the independent variable is 'Pclass'. The null and alternative hypotheses are given below.\n",
    "\n",
    "* H$_0$: Probability of survival and fare class are independent\n",
    "\n",
    "* H$_A$: Probability of survival and fare class are not independent\n",
    "\n",
    "Since both are categorical variables, we can run a chi-squared test for this purpose$^1$."
   ]
  },
  {
   "cell_type": "code",
   "execution_count": 552,
   "metadata": {
    "collapsed": false
   },
   "outputs": [
    {
     "data": {
      "text/plain": [
       "'Chi-squared Test statistic : 102.888988757'"
      ]
     },
     "metadata": {},
     "output_type": "display_data"
    },
    {
     "data": {
      "text/plain": [
       "'p-value                    : 4.5492517113e-23'"
      ]
     },
     "metadata": {},
     "output_type": "display_data"
    }
   ],
   "source": [
    "chisq_titanic('Survived','Pclass')"
   ]
  },
  {
   "cell_type": "markdown",
   "metadata": {},
   "source": [
    "###### We can see the the p-value is lower than 0.05. We can reject the null hypothesis and conclude that probability of survival was  dependent on fare class."
   ]
  },
  {
   "cell_type": "markdown",
   "metadata": {},
   "source": [
    "## C.3 Age Groups\n",
    "Did age group play a significant role in determining whether one survived or not?\n",
    "\n",
    "The dependent variable is 'Survived' and the independent variable is 'AgeGroup'. The null and alternative hypotheses are given below.\n",
    "\n",
    "* H$_0$: Probability of survival and age group are independent\n",
    "\n",
    "* H$_A$: Probability of survival and age group are not independent\n",
    "\n",
    "Since both are categorical variables, we can run a chi-squared test for this purpose$^1$."
   ]
  },
  {
   "cell_type": "code",
   "execution_count": 553,
   "metadata": {
    "collapsed": false
   },
   "outputs": [
    {
     "data": {
      "text/plain": [
       "'Chi-squared Test statistic : 15.1606604467'"
      ]
     },
     "metadata": {},
     "output_type": "display_data"
    },
    {
     "data": {
      "text/plain": [
       "'p-value                    : 0.0339942410203'"
      ]
     },
     "metadata": {},
     "output_type": "display_data"
    }
   ],
   "source": [
    "titanic['AgeGroup']=titanic['AgeGroup'].astype('object')\n",
    "chisq_titanic('Survived','AgeGroup')"
   ]
  },
  {
   "cell_type": "markdown",
   "metadata": {},
   "source": [
    "###### We can see the the p-value is lower than 0.05, but not as low as it was for gender or fare class. We can reject the null hypothesis and conclude that probability of survival was somewhat dependent on age group."
   ]
  },
  {
   "cell_type": "markdown",
   "metadata": {},
   "source": [
    "## C.4 Family Size\n",
    "Did family size play a significant role in determining whether one survived or not?\n",
    "\n",
    "The dependent variable is 'Survived' and the independent variable is 'FamilySize'. The null and alternative hypotheses are given below.\n",
    "\n",
    "* H$_0$: Probability of survival and family size are independent\n",
    "\n",
    "* H$_A$: Probability of survival and family size are not independent\n",
    "\n",
    "Since both are categorical variables, we can run a chi-squared test for this purpose$^1$."
   ]
  },
  {
   "cell_type": "code",
   "execution_count": 554,
   "metadata": {
    "collapsed": false
   },
   "outputs": [
    {
     "data": {
      "text/plain": [
       "'Chi-squared Test statistic : 80.6723134378'"
      ]
     },
     "metadata": {},
     "output_type": "display_data"
    },
    {
     "data": {
      "text/plain": [
       "'p-value                    : 3.57966897544e-14'"
      ]
     },
     "metadata": {},
     "output_type": "display_data"
    }
   ],
   "source": [
    "chisq_titanic('Survived','FamilySize')"
   ]
  },
  {
   "cell_type": "markdown",
   "metadata": {},
   "source": [
    "###### We can see the the p-value is lower than 0.05. We can reject the null hypothesis and conclude that probability of survival was  dependent on family size."
   ]
  },
  {
   "cell_type": "markdown",
   "metadata": {},
   "source": [
    "# D. Conclusions\n",
    "While the conclusions we arrived at with the statistical tests hold good for the sample, it is important to note that the Titanic had 2,224 persons on board$^2$. Thus, if we had data for all the people on board, it is possible that different conclusions may have been derived. For example, the survival percentage on the sample was 38% as we saw, but the survival percentage on the total population was only about 32%$^2$. Thus, the sample may not have been representative of the total population.\n",
    "\n",
    "We could have arrived at more inferences if we had more data about the persons on board. For example:\n",
    "* Did country of origin impact survival?\n",
    "* Did crewmembers have an advantage over passengers by evacuating themselves first?\n",
    "* Did race of passengers and crewmembers impact survival?\n",
    "* And so on.\n",
    "\n",
    "# E. References\n",
    "1. An Overview: Choosing the Correct Statistical Test (http://www-users.cs.umn.edu/~ludford/stat_overview.htm)\n",
    "2. RMS Titanic - Wikipedia (https://en.wikipedia.org/wiki/RMS_Titanic)\n"
   ]
  }
 ],
 "metadata": {
  "anaconda-cloud": {},
  "kernelspec": {
   "display_name": "Python [conda root]",
   "language": "python",
   "name": "conda-root-py"
  },
  "language_info": {
   "codemirror_mode": {
    "name": "ipython",
    "version": 2
   },
   "file_extension": ".py",
   "mimetype": "text/x-python",
   "name": "python",
   "nbconvert_exporter": "python",
   "pygments_lexer": "ipython2",
   "version": "2.7.12"
  }
 },
 "nbformat": 4,
 "nbformat_minor": 0
}
