{
 "cells": [
  {
   "cell_type": "markdown",
   "metadata": {},
   "source": [
    "# 1. Introduction\n",
    "I work in an office located in downtown Manhattan. Owing to the large number of businesses in this area and the high amount of footfall, I believe this area has a lot of useful data that can be analyzed to gain some insights.\n",
    "Here is the link to the area that was used for the project:\n",
    "http://www.openstreetmap.org/export#map=14/40.7195/-73.9858\n",
    "\n",
    "# 2. Problems in the map data\n",
    "Investigating the downloaded data uncovered the following issues / inconsistencies:\n",
    "* Abbreviated street names / types\n",
    "* Inconsistent zip codes\n",
    "* Cities and counties\n",
    "* Inconsistently formatted and inaccurate phone numbers"
   ]
  },
  {
   "cell_type": "code",
   "execution_count": 97,
   "metadata": {
    "collapsed": false
   },
   "outputs": [
    {
     "name": "stdout",
     "output_type": "stream",
     "text": [
      "Populating the interactive namespace from numpy and matplotlib\n"
     ]
    }
   ],
   "source": [
    "import csv\n",
    "import codecs\n",
    "import pprint\n",
    "import re\n",
    "import xml.etree.cElementTree as ET\n",
    "import sqlite3\n",
    "import string as s\n",
    "import numpy as np\n",
    "import pandas as pd\n",
    "import scipy as sp\n",
    "import seaborn as sns\n",
    "import matplotlib.pyplot as plt\n",
    "import plotly as pltly\n",
    "from plotly.graph_objs import *\n",
    "\n",
    "%matplotlib inline\n",
    "%pylab inline\n",
    "\n",
    "OSM_FILE='NYC.OSM'\n",
    "DATABASE='OpenStreetMap.db'\n",
    "mapbox_access_token='pk.eyJ1IjoibWVldG5hcmVuIiwiYSI6ImNqM3htbWtrMjAwMXUyd3BteXlpb2lmOXkifQ.tOV33V0Iv2N_Lqw--qqUwg'\n",
    "\n",
    "pltly.tools.set_credentials_file(username='meetnaren', api_key='02FpawrSfFQjW88Ry5UA')\n",
    "\n",
    "def connect_db():\n",
    "    conn=sqlite3.connect(DATABASE)\n",
    "    c=conn.cursor()\n",
    "    return c\n",
    "\n",
    "def execute_query(cursor, query):\n",
    "    return pd.DataFrame(cursor.execute(query).fetchall())\n",
    "\n",
    "def get_element(osm_file, tags=('node', 'way')):\n",
    "    \"\"\"Yield element if it is the right type of tag\"\"\"\n",
    "\n",
    "    context = ET.iterparse(osm_file, events=('start', 'end'))\n",
    "    _, root = next(context)\n",
    "    for event, elem in context:\n",
    "        if event == 'end' and elem.tag in tags:\n",
    "            yield elem\n",
    "            root.clear()\n",
    "\n",
    "class UnicodeDictWriter(csv.DictWriter, object):\n",
    "    \"\"\"Extend csv.DictWriter to handle Unicode input\"\"\"\n",
    "\n",
    "    def writerow(self, row):\n",
    "        super(UnicodeDictWriter, self).writerow({\n",
    "            k: (v.encode('utf-8') if isinstance(v, unicode) else v) for k, v in row.iteritems()\n",
    "        })\n",
    "\n",
    "    def writerows(self, rows):\n",
    "        for row in rows:\n",
    "            self.writerow(row)\n",
    "\n",
    "c=connect_db()"
   ]
  },
  {
   "cell_type": "markdown",
   "metadata": {},
   "source": [
    "## a) Street names\n",
    "Let us look at the street names and unconver any abbreviated ones that can be fixed. I will audit each word in the street tags in the XML file to make sure we clean up everything before loading to the database.\n",
    "\n",
    "Upon inspection of the dataset, the street names occur not only in the \"addr:street\" tags, but also under the \"tiger\" tags."
   ]
  },
  {
   "cell_type": "code",
   "execution_count": 98,
   "metadata": {
    "collapsed": false
   },
   "outputs": [
    {
     "name": "stdout",
     "output_type": "stream",
     "text": [
      "{'ave': 632,\n",
      " 'blvd': 57,\n",
      " 'brg': 34,\n",
      " 'ct': 6,\n",
      " 'ctr': 1,\n",
      " 'dr': 67,\n",
      " 'e': 1,\n",
      " 'hwy': 7,\n",
      " 'ln': 10,\n",
      " 'n': 2,\n",
      " 'pl': 115,\n",
      " 'plz': 24,\n",
      " 'rd': 1,\n",
      " 'sq': 29,\n",
      " 'st': 2060,\n",
      " 'w': 1}\n"
     ]
    }
   ],
   "source": [
    "abbr_names = {\n",
    "    \"st\":\"Street\",\n",
    "    \"ste\":\"Suite\",\n",
    "    \"ave\":\"Avenue\",\n",
    "    \"brg\":\"Bridge\",\n",
    "    \"ct\":\"Court\",\n",
    "    \"rd\":\"Road\",\n",
    "    \"pl\":\"Place\",\n",
    "    \"dr\":\"Drive\",\n",
    "    \"sq\":\"Square\",\n",
    "    \"ln\":\"Lane\",\n",
    "    \"blvd\":\"Boulevard\",\n",
    "    \"hwy\":\"Highway\",\n",
    "    \"wy\":\"Way\",\n",
    "    \"plz\":\"Plaza\",\n",
    "    \"ctr\":\"Center\",\n",
    "    \"n\":\"North\",\n",
    "    \"w\":\"West\",\n",
    "    \"s\":\"South\",\n",
    "    \"e\":\"East\"\n",
    "    }\n",
    "\n",
    "abbr_street_names={}\n",
    "\n",
    "def find_abbr_street_names(elem):\n",
    "    for tag in elem.iter('tag'):\n",
    "        keytext=tag.attrib['k']\n",
    "        if keytext.startswith('addr:street') or keytext.startswith('tiger:name_type'):\n",
    "            words=tag.attrib['v'].split(' ')\n",
    "            for word in words:\n",
    "                word=word.translate(None,',.').lower()\n",
    "                if word in abbr_names:\n",
    "                    abbr_street_names[word]=abbr_street_names.get(word,0)+1\n",
    "    return None\n",
    "\n",
    "for elem in get_element(OSM_FILE):\n",
    "    find_abbr_street_names(elem)\n",
    "\n",
    "pprint.pprint(abbr_street_names)"
   ]
  },
  {
   "cell_type": "markdown",
   "metadata": {},
   "source": [
    "It looks like there are quite a few abbreviated street names and types in the dataset. Let us fix them:"
   ]
  },
  {
   "cell_type": "code",
   "execution_count": 99,
   "metadata": {
    "collapsed": false
   },
   "outputs": [
    {
     "name": "stdout",
     "output_type": "stream",
     "text": [
      "{('110 SIXTH AVE. AT WATTS ST', '110 SIXTH Avenue AT WATTS Street'): 1,\n",
      " ('13th St.', '13th Street'): 1,\n",
      " ('15th st and 6th Avenue', '15th Street and 6th Avenue'): 1,\n",
      " ('1st St', '1st Street'): 25,\n",
      " ('2nd St', '2nd Street'): 19,\n",
      " ('334 Furman St, Brooklyn', '334 Furman Street Brooklyn'): 1,\n",
      " ('362nd Grand St', '362nd Grand Street'): 1,\n",
      " ('3rd St', '3rd Street'): 14,\n",
      " ('4th St', '4th Street'): 1,\n",
      " ('5th ave', '5th Avenue'): 1,\n",
      " ('Adams St', 'Adams Street'): 8,\n",
      " ('Ave', 'Avenue'): 603,\n",
      " ('Ave; Brg:Brg', 'Avenue; Brg:Brg'): 4,\n",
      " ('Ave; St; Ave', 'Avenue; Street; Avenue'): 3,\n",
      " ('Bloomfield St', 'Bloomfield Street'): 15,\n",
      " ('Blvd', 'Boulevard'): 57,\n",
      " ('Brg', 'Bridge'): 34,\n",
      " ('Brg; St', 'Bridge; Street'): 1,\n",
      " ('Broad St', 'Broad Street'): 1,\n",
      " ('Clinton St', 'Clinton Street'): 7,\n",
      " ('Ct', 'Court'): 6,\n",
      " ('Delancey St South', 'Delancey Street South'): 2,\n",
      " ('Devoe St.', 'Devoe Street'): 1,\n",
      " ('Dr', 'Drive'): 64,\n",
      " ('E. 4th Street', 'East 4th Street'): 1,\n",
      " ('East Houston St', 'East Houston Street'): 1,\n",
      " ('Garden St', 'Garden Street'): 13,\n",
      " ('Grand St', 'Grand Street'): 8,\n",
      " ('Harborside Fin Ctr', 'Harborside Fin Center'): 1,\n",
      " ('Hewes St', 'Hewes Street'): 1,\n",
      " ('Hudson St', 'Hudson Street'): 11,\n",
      " ('Hwy', 'Highway'): 7,\n",
      " ('Jackson St', 'Jackson Street'): 1,\n",
      " ('Jefferson St', 'Jefferson Street'): 7,\n",
      " ('Ln', 'Lane'): 10,\n",
      " ('Madison St', 'Madison Street'): 5,\n",
      " ('Main St., Suite 500', 'Main Street Suite 500'): 1,\n",
      " ('Monroe St', 'Monroe Street'): 1,\n",
      " ('Morgan Ave', 'Morgan Avenue'): 1,\n",
      " ('Mott St #507', 'Mott Street #507'): 1,\n",
      " ('N 7th St', 'North 7th Street'): 1,\n",
      " ('N 9th ST', 'North 9th Street'): 1,\n",
      " ('Newark St', 'Newark Street'): 4,\n",
      " ('Norman Ave', 'Norman Avenue'): 5,\n",
      " ('Park Ave', 'Park Avenue'): 13,\n",
      " ('Pl', 'Place'): 114,\n",
      " ('Pl; Ave', 'Place; Avenue'): 1,\n",
      " ('Plz', 'Plaza'): 24,\n",
      " ('Plz; St', 'Plaza; Street'): 1,\n",
      " ('Rd', 'Road'): 1,\n",
      " ('Rev Dr G C Taylor Boulevard', 'Rev Drive G C Taylor Boulevard'): 3,\n",
      " ('River St', 'River Street'): 4,\n",
      " ('South 4th St.', 'South 4th Street'): 1,\n",
      " ('South 4th st', 'South 4th Street'): 1,\n",
      " ('Sq', 'Square'): 27,\n",
      " ('St', 'Street'): 1883,\n",
      " ('St; Pl', 'Street; Place'): 1,\n",
      " ('St; Plz; St', 'Street; Plaza; Street'): 3,\n",
      " ('St; Sq', 'Street; Square'): 2,\n",
      " ('State St & Water St', 'State Street & Water Street'): 1,\n",
      " ('W. Broadway', 'West Broadway'): 1,\n",
      " ('Washington St', 'Washington Street'): 8,\n",
      " ('Washington St.', 'Washington Street'): 1,\n",
      " ('Willow Ave', 'Willow Avenue'): 4,\n",
      " ('Wooster St', 'Wooster Street'): 1}\n",
      "{}\n"
     ]
    }
   ],
   "source": [
    "street_names={}\n",
    "abbr_street_names={}\n",
    "\n",
    "def clean_street_words(elem):\n",
    "    for tag in elem.iter('tag'):\n",
    "        keytext=tag.attrib['k']\n",
    "        if keytext.startswith('addr:street') or keytext.startswith('tiger:name_type'):\n",
    "            words=tag.attrib['v'].split(' ')\n",
    "            cleaned_tag=' '.join(words)\n",
    "            for word in words:\n",
    "                # removing dots and commas, and converting to lowercase for comparison\n",
    "                cleanword=word.translate(None,',.').lower()\n",
    "                if cleanword in abbr_names:\n",
    "                    words[words.index(word)]=abbr_names[cleanword]\n",
    "                # There are some tags where the street name types are separated by a colon or semicolon like this:\n",
    "                # 'Ave; St; Ave' or 'St; Plz; St'\n",
    "                # the following lines of code are for fixing such cases\n",
    "                elif cleanword[-1]==';' and cleanword[:-1] in abbr_names:\n",
    "                    words[words.index(word)]=abbr_names[cleanword[:-1]]+';'\n",
    "                elif cleanword[-1]==':' and cleanword[:-1] in abbr_names:\n",
    "                    words[words.index(word)]=abbr_names[cleanword[:-1]]+':'\n",
    "                cleaned_tag=' '.join(words)\n",
    "            if cleaned_tag!=tag.attrib['v']:\n",
    "                street_names[(tag.attrib['v'],cleaned_tag)]=street_names.get((tag.attrib['v'],cleaned_tag),0)+1\n",
    "                tag.set('v',cleaned_tag)\n",
    "    return elem\n",
    "\n",
    "for elem in get_element(OSM_FILE):\n",
    "    elem=clean_street_words(elem)\n",
    "    find_abbr_street_names(elem)\n",
    "\n",
    "pprint.pprint(street_names)\n",
    "pprint.pprint(abbr_street_names)"
   ]
  },
  {
   "cell_type": "markdown",
   "metadata": {},
   "source": [
    "## b) Zip codes\n",
    "Let us investigate the zip codes in the XML file. A quick inspection reveals that the zip codes are available under the tags with 'k'='addr:postcode' and also under the \"tiger\" tags. But, the \"tiger\" zipcode tags identify the zipcodes of the areas to the left and right of the \"way\" tags."
   ]
  },
  {
   "cell_type": "markdown",
   "metadata": {},
   "source": [
    "Nevertheless, let us investigate all zipcodes to identify the following issues: \n",
    "* All NYC zipcodes should start with '1'\n",
    "* Let us consider only the first 5 chars of the zip codes. Any extensions will need to be truncated before loading to the database."
   ]
  },
  {
   "cell_type": "code",
   "execution_count": 100,
   "metadata": {
    "collapsed": false
   },
   "outputs": [
    {
     "name": "stdout",
     "output_type": "stream",
     "text": [
      "{'07030': 141,\n",
      " '07030-5774': 1,\n",
      " '07050': 1,\n",
      " '07302': 65,\n",
      " '07302-4522': 1,\n",
      " '07304': 10,\n",
      " '07306': 4,\n",
      " '07310': 31,\n",
      " '07311': 2,\n",
      " '100014': 1,\n",
      " '10002-1013': 1,\n",
      " '10009:10010': 6,\n",
      " '10011-6832': 1,\n",
      " '10011; 10014': 14,\n",
      " '10011;10014': 2,\n",
      " '10012-3332': 1,\n",
      " '10012; 10011': 2,\n",
      " '11201-2483': 1,\n",
      " '11378; 11237': 6,\n",
      " '11378;11237': 4,\n",
      " 'NY 10002': 1,\n",
      " 'NY 10003': 3,\n",
      " 'NY 10012': 1,\n",
      " 'NY 11201': 2}\n"
     ]
    }
   ],
   "source": [
    "zipcodes={}\n",
    "\n",
    "def audit_zipcodes(elem):\n",
    "    for tag in elem.iter('tag'):\n",
    "        keytext=tag.attrib['k']\n",
    "        if keytext.startswith('addr:postcode') or keytext.startswith('tiger:zip'):\n",
    "            if tag.attrib['v'][0]!='1' or len(tag.attrib['v'])!=5:\n",
    "                zipcodes[tag.attrib['v']]=zipcodes.get(tag.attrib['v'],0)+1\n",
    "    return None\n",
    "    \n",
    "\n",
    "for elem in get_element(OSM_FILE):\n",
    "    audit_zipcodes(elem)\n",
    "            \n",
    "pprint.pprint(zipcodes)"
   ]
  },
  {
   "cell_type": "markdown",
   "metadata": {},
   "source": [
    "I noticed the following issues in the list of zipcodes above:\n",
    "* There are zipcodes starting with zero. These belong to the state of New Jersey and the nodes or ways that have these zip codes should not be loaded into the database.\n",
    "* There are some zip codes that have 4-digit extensions associated with them. These need to be truncated.\n",
    "* There are zip codes that include the state code (\"NY\"). These need to be fixed.\n",
    "* There is one typo (100014)\n",
    "* There are cases where there are multiple zip codes separated by a ':', '-' or a ';'. These can be left as is."
   ]
  },
  {
   "cell_type": "code",
   "execution_count": 101,
   "metadata": {
    "collapsed": false
   },
   "outputs": [
    {
     "name": "stdout",
     "output_type": "stream",
     "text": [
      "{'07030': 142,\n",
      " '07050': 1,\n",
      " '07302': 66,\n",
      " '07304': 10,\n",
      " '07306': 4,\n",
      " '07310': 31,\n",
      " '07311': 2,\n",
      " '10009:10010': 6,\n",
      " '10011; 10014': 14,\n",
      " '10011;10014': 2,\n",
      " '10012; 10011': 2,\n",
      " '11378; 11237': 6,\n",
      " '11378;11237': 4}\n"
     ]
    }
   ],
   "source": [
    "def is_extension(zipcode):\n",
    "    return zipcode.find('-')>-1\n",
    "\n",
    "def is_state_code(zipcode):\n",
    "    return zipcode[:2]=='NY'\n",
    "\n",
    "def clean_zip_codes(elem):\n",
    "    for tag in elem.iter('tag'):\n",
    "        keytext=tag.attrib['k']\n",
    "        if keytext.startswith('addr:postcode') or keytext.startswith('tiger:zip'):\n",
    "            zipcode=tag.attrib['v']\n",
    "            if is_extension(zipcode):\n",
    "                zipcode=zipcode[:5]\n",
    "            elif is_state_code(zipcode):\n",
    "                zipcode=zipcode[3:8]\n",
    "            elif zipcode=='100014':\n",
    "                zipcode='10014'\n",
    "            tag.set('v',zipcode)\n",
    "            if zipcode.startswith('0'):\n",
    "                elem.set('add','False')\n",
    "    return elem\n",
    "                \n",
    "zipcodes={}\n",
    "\n",
    "for elem in get_element(OSM_FILE):\n",
    "    elem=clean_zip_codes(elem)\n",
    "    audit_zipcodes(elem)\n",
    "\n",
    "pprint.pprint(zipcodes)"
   ]
  },
  {
   "cell_type": "markdown",
   "metadata": {},
   "source": [
    "## c) Counties\n",
    "The \"tiger\" tags have a field called \"County\" in the XML file. Let us investigate county names in the file."
   ]
  },
  {
   "cell_type": "code",
   "execution_count": 102,
   "metadata": {
    "collapsed": false
   },
   "outputs": [
    {
     "name": "stdout",
     "output_type": "stream",
     "text": [
      "{'Hudson, NJ': 193,\n",
      " 'Kings, NY': 1132,\n",
      " 'Kings, NY:New York, NY': 2,\n",
      " 'Kings, NY; New York, NY': 3,\n",
      " 'Kings, NY; New York, NY:New York, NY': 4,\n",
      " 'Kings, NY; Queens, NY': 2,\n",
      " 'Kings, NY;New York, NY': 3,\n",
      " 'Kings, NY;New York, NY:New York, NY': 3,\n",
      " 'New York, NY': 1514,\n",
      " 'New York, NY; Kings, NY': 8,\n",
      " 'New York, NY;Kings, NY': 2,\n",
      " 'Queens, NY': 113,\n",
      " 'Queens, NY; Kings, NY': 10,\n",
      " 'Queens, NY;Kings, NY': 4}\n"
     ]
    }
   ],
   "source": [
    "counties={}\n",
    "\n",
    "def audit_counties(elem):\n",
    "    for tag in elem.iter('tag'):\n",
    "        if tag.attrib['k'].startswith('tiger:county'):\n",
    "            counties[tag.attrib['v']]=counties.get(tag.attrib['v'],0)+1\n",
    "    \n",
    "for elem in get_element(OSM_FILE):\n",
    "    audit_counties(elem)\n",
    "\n",
    "pprint.pprint(counties)"
   ]
  },
  {
   "cell_type": "markdown",
   "metadata": {},
   "source": [
    "We can see that while most of the entries are in New York, there are a few that belong to the state of New Jersey. The ways and nodes that have this attribute should not be loaded into the database. I will use a flag called 'add' at the element level for this purpose."
   ]
  },
  {
   "cell_type": "code",
   "execution_count": 103,
   "metadata": {
    "collapsed": false
   },
   "outputs": [],
   "source": [
    "def clean_counties(elem):\n",
    "    for tag in elem.iter('tag'):\n",
    "        if tag.attrib['k'].startswith('tiger:county') and tag.attrib['v']=='Hudson, NJ':\n",
    "            elem.set('add','False')\n",
    "    return elem"
   ]
  },
  {
   "cell_type": "markdown",
   "metadata": {},
   "source": [
    "## d) Phone numbers\n",
    "Some of the nodes in the dataset are businesses with phone numbers. Unfortunately, phone numbers have been entered in various formats, such as:\n",
    "* +1 844 462 7342\n",
    "* 2129412614\n",
    "* +1 212 791-9676\n",
    "* +1 212.349.6555\n",
    "and so on.\n",
    "\n",
    "To deal with this issue, I need to find out all the different representations of phone numbers in the dataset. I will try to convert all phone numbers to the format +19999999999."
   ]
  },
  {
   "cell_type": "code",
   "execution_count": 104,
   "metadata": {
    "collapsed": false
   },
   "outputs": [
    {
     "name": "stdout",
     "output_type": "stream",
     "text": [
      "set([' ', ')', '(', '+', '-', '.', '1', '0', '3', '2', '5', '4', '7', '6', '9', '8'])\n"
     ]
    }
   ],
   "source": [
    "phone_number_chars=set()\n",
    "\n",
    "def audit_phone_numbers(elem):\n",
    "    for tag in elem.iter('tag'):\n",
    "        if tag.attrib['k'].find('phone')>-1:\n",
    "            phone=tag.attrib['v']\n",
    "            for i in range(len(phone)):\n",
    "                phone_number_chars.add(phone[i])\n",
    "    return None\n",
    "\n",
    "for elem in get_element(OSM_FILE):\n",
    "    audit_phone_numbers(elem)\n",
    "\n",
    "print phone_number_chars"
   ]
  },
  {
   "cell_type": "markdown",
   "metadata": {},
   "source": [
    "Now we know all the different characters that we need filter out of the phone numbers in the dataset."
   ]
  },
  {
   "cell_type": "code",
   "execution_count": 105,
   "metadata": {
    "collapsed": false
   },
   "outputs": [
    {
     "name": "stdout",
     "output_type": "stream",
     "text": [
      "+1212966998 +1 212 966998\n",
      "212219954 (212) 219-954\n"
     ]
    }
   ],
   "source": [
    "def clean_phone_numbers(elem):\n",
    "    for tag in elem.iter('tag'):\n",
    "        if tag.attrib['k'].find('phone')>-1:\n",
    "            orig_phone=tag.attrib['v']\n",
    "            phone=orig_phone.translate(None,' )(-.')\n",
    "            if len(phone)==10: \n",
    "                phone='+1'+phone\n",
    "            if len(phone)==11 and phone[0]=='1':\n",
    "                phone='+'+phone\n",
    "            if len(phone)!=12:\n",
    "                print phone, orig_phone\n",
    "    \n",
    "for elem in get_element(OSM_FILE):\n",
    "    clean_phone_numbers(elem)"
   ]
  },
  {
   "cell_type": "markdown",
   "metadata": {},
   "source": [
    "We can see that there are two phone numbers that have one digit missing. I verified these nodes, looked up the information online $^{[1]}$ and fixed them in the code below."
   ]
  },
  {
   "cell_type": "code",
   "execution_count": 106,
   "metadata": {
    "collapsed": false
   },
   "outputs": [
    {
     "name": "stdout",
     "output_type": "stream",
     "text": [
      "set(['+', '1', '0', '3', '2', '5', '4', '7', '6', '9', '8'])\n"
     ]
    }
   ],
   "source": [
    "#mapping the node IDs to the phone numbers\n",
    "phone_numbers_dict={\n",
    "    '2565708227':'+12129669983',\n",
    "    '3147863535':'+12122199545'\n",
    "}\n",
    "\n",
    "phone_number_chars=set('+0123456789')\n",
    "\n",
    "def clean_phone_numbers(elem):\n",
    "    for tag in elem.iter('tag'):\n",
    "        keytext=tag.attrib['k']\n",
    "        if keytext.find('phone')>-1:\n",
    "            orig_phone=tag.attrib['v']\n",
    "            phone=orig_phone.translate(None,' )(-.')\n",
    "            if len(phone)==10: \n",
    "                phone='+1'+phone\n",
    "            if len(phone)==11 and phone[0]=='1':\n",
    "                phone='+'+phone\n",
    "            if len(phone)!=12:\n",
    "                phone=phone_numbers_dict[elem.attrib['id']]\n",
    "            tag.set('v',phone)\n",
    "    return elem\n",
    "    \n",
    "for elem in get_element(OSM_FILE):\n",
    "    elem=clean_phone_numbers(elem)\n",
    "    audit_phone_numbers(elem)\n",
    "\n",
    "print phone_number_chars"
   ]
  },
  {
   "cell_type": "markdown",
   "metadata": {},
   "source": [
    "## e) Cities\n",
    "The address tags have a city attribute that can be investigated. This should be similar to the counties check that we did previously."
   ]
  },
  {
   "cell_type": "code",
   "execution_count": 107,
   "metadata": {
    "collapsed": false
   },
   "outputs": [
    {
     "name": "stdout",
     "output_type": "stream",
     "text": [
      "{'Blissville': 1,\n",
      " 'Brooklyn': 427,\n",
      " 'Brooklyn, NY': 4,\n",
      " 'Brooklyn, New York': 1,\n",
      " 'Hoboken': 152,\n",
      " 'Jersey City': 15,\n",
      " 'Long Island City': 2,\n",
      " 'Manhattan NYC': 1,\n",
      " 'NEW YORK CITY': 3,\n",
      " 'New York': 1608,\n",
      " 'New York CIty': 2,\n",
      " 'New York City': 122,\n",
      " 'New York, NY': 4,\n",
      " 'Tribeca': 2,\n",
      " 'York City': 1,\n",
      " 'brooklyn': 1,\n",
      " 'new york': 2}\n"
     ]
    }
   ],
   "source": [
    "cities={}\n",
    "\n",
    "def audit_cities(elem):\n",
    "    for tag in elem.iter('tag'):\n",
    "        if tag.attrib['k'].startswith('addr:city'):\n",
    "            cities[tag.attrib['v']]=cities.get(tag.attrib['v'],0)+1\n",
    "    \n",
    "for elem in get_element(OSM_FILE):\n",
    "    audit_cities(elem)\n",
    "\n",
    "pprint.pprint(cities)"
   ]
  },
  {
   "cell_type": "markdown",
   "metadata": {},
   "source": [
    "I can see the following issues with the list of cities in the dataset.\n",
    "* Clearly some of them belong to the state of New Jersey (Jersey City, Hoboken). These nodes should not be loaded into the database\n",
    "* Some of the city names have the state code attached to them (Brooklyn, NY)\n",
    "* Inconsistent capitalization\n",
    "* New York is represented in a variety of different ways (New York City, Manhattan NYC, York City, etc.)\n",
    "* Neigborhoods are depicted as a separate city (Tribeca, Blissville)\n",
    "\n",
    "I will try resolving these issues thusly:"
   ]
  },
  {
   "cell_type": "code",
   "execution_count": 108,
   "metadata": {
    "collapsed": false
   },
   "outputs": [
    {
     "name": "stdout",
     "output_type": "stream",
     "text": [
      "{'Brooklyn': 433,\n",
      " 'Hoboken': 152,\n",
      " 'Jersey City': 15,\n",
      " 'Long Island City': 3,\n",
      " 'New York': 1745}\n"
     ]
    }
   ],
   "source": [
    "city_mappings={\n",
    "    'Blissville':'Long Island City',\n",
    "    'Brooklyn, Ny':'Brooklyn',\n",
    "    'Brooklyn, New York':'Brooklyn',\n",
    "    'Manhattan Nyc':'New York',\n",
    "    'New York City':'New York',\n",
    "    'New York, Ny': 'New York',\n",
    "    'York City':'New York',\n",
    "    'Tribeca':'New York'\n",
    "}\n",
    "\n",
    "cities={}\n",
    "\n",
    "def clean_cities(elem):\n",
    "    for tag in elem.iter('tag'):\n",
    "        if tag.attrib['k'].startswith('addr:city'):\n",
    "            city=s.capwords(tag.attrib['v']) # this takes care of incorrect capitalization of words\n",
    "            if city in city_mappings:\n",
    "                city=city_mappings[city]\n",
    "            tag.set('v',city)\n",
    "            if tag.attrib['v'] in ['Hoboken', 'Jersey City']:\n",
    "                elem.set('add','False')\n",
    "    return elem\n",
    "    \n",
    "for elem in get_element(OSM_FILE):\n",
    "    elem=clean_cities(elem)\n",
    "    audit_cities(elem)\n",
    "            \n",
    "pprint.pprint(cities)"
   ]
  },
  {
   "cell_type": "markdown",
   "metadata": {},
   "source": [
    "# 3. Preparing data to load into the database\n",
    "In order to prepare data, I will make use of the shape_element function used in the case study, in conjunction with the cleaning functions described above."
   ]
  },
  {
   "cell_type": "code",
   "execution_count": 109,
   "metadata": {
    "collapsed": false
   },
   "outputs": [],
   "source": [
    "NODES_PATH = \"nodes.csv\"\n",
    "NODE_TAGS_PATH = \"nodes_tags.csv\"\n",
    "WAYS_PATH = \"ways.csv\"\n",
    "WAY_NODES_PATH = \"ways_nodes.csv\"\n",
    "WAY_TAGS_PATH = \"ways_tags.csv\"\n",
    "\n",
    "PROBLEMCHARS = re.compile(r'[=\\+/&<>;\\'\"\\?%#$@\\,\\. \\t\\r\\n]')\n",
    "\n",
    "NODE_FIELDS = ['id', 'lat', 'lon', 'user', 'uid', 'version', 'changeset', 'timestamp']\n",
    "NODE_TAGS_FIELDS = ['id', 'key', 'value', 'type']\n",
    "WAY_FIELDS = ['id', 'user', 'uid', 'version', 'changeset', 'timestamp']\n",
    "WAY_TAGS_FIELDS = ['id', 'key', 'value', 'type']\n",
    "WAY_NODES_FIELDS = ['id', 'node_id', 'position']\n",
    "\n",
    "def shape_element(element, node_attr_fields=NODE_FIELDS, way_attr_fields=WAY_FIELDS,\n",
    "                  problem_chars=PROBLEMCHARS, default_tag_type='regular'):\n",
    "\n",
    "    node_attribs = {}\n",
    "    way_attribs = {}\n",
    "    way_nodes = []\n",
    "    tags = []  # Handle secondary tags the same way for both node and way elements\n",
    "\n",
    "    for tag in element.iter('tag'):\n",
    "        if problem_chars.search(tag.attrib['k']):\n",
    "            continue\n",
    "        tagdict={}\n",
    "        tagdict['id']=element.attrib['id']\n",
    "        colonpos=tag.attrib['k'].find(':')\n",
    "        if colonpos>-1:\n",
    "            tagdict['key']=tag.attrib['k'][colonpos+1:]\n",
    "            tagdict['type']=tag.attrib['k'][:colonpos]\n",
    "        else:\n",
    "            tagdict['key']=tag.attrib['k']\n",
    "            tagdict['type']=default_tag_type\n",
    "        tagdict['value']=tag.attrib['v']\n",
    "        tags.append(tagdict)\n",
    "\n",
    "    if element.tag == 'node':\n",
    "        for a in element.attrib:\n",
    "            if a in node_attr_fields:\n",
    "                node_attribs[a]=element.attrib[a]\n",
    "        return {'node': node_attribs, 'node_tags': tags}\n",
    "    elif element.tag == 'way':\n",
    "        for a in element.attrib:\n",
    "            if a in way_attr_fields:\n",
    "                way_attribs[a]=element.attrib[a]\n",
    "\n",
    "        pos=0\n",
    "        for pos, nd in enumerate(element.iter('nd')):\n",
    "            nodedict={}\n",
    "            nodedict['id']=element.attrib['id']\n",
    "            nodedict['node_id']=nd.attrib['ref']\n",
    "            nodedict['position']=pos\n",
    "            way_nodes.append(nodedict)            \n",
    "        return {'way': way_attribs, 'way_nodes': way_nodes, 'way_tags': tags}"
   ]
  },
  {
   "cell_type": "markdown",
   "metadata": {},
   "source": [
    "I will call the clean up functions before the shape_element function is called."
   ]
  },
  {
   "cell_type": "code",
   "execution_count": 110,
   "metadata": {
    "collapsed": false
   },
   "outputs": [],
   "source": [
    "with codecs.open(NODES_PATH, 'w') as nodes_file, \\\n",
    "     codecs.open(NODE_TAGS_PATH, 'w') as nodes_tags_file, \\\n",
    "     codecs.open(WAYS_PATH, 'w') as ways_file, \\\n",
    "     codecs.open(WAY_NODES_PATH, 'w') as way_nodes_file, \\\n",
    "     codecs.open(WAY_TAGS_PATH, 'w') as way_tags_file:\n",
    "\n",
    "    nodes_writer = UnicodeDictWriter(nodes_file, NODE_FIELDS)\n",
    "    node_tags_writer = UnicodeDictWriter(nodes_tags_file, NODE_TAGS_FIELDS)\n",
    "    ways_writer = UnicodeDictWriter(ways_file, WAY_FIELDS)\n",
    "    way_nodes_writer = UnicodeDictWriter(way_nodes_file, WAY_NODES_FIELDS)\n",
    "    way_tags_writer = UnicodeDictWriter(way_tags_file, WAY_TAGS_FIELDS)\n",
    "\n",
    "    nodes_writer.writeheader()\n",
    "    node_tags_writer.writeheader()\n",
    "    ways_writer.writeheader()\n",
    "    way_nodes_writer.writeheader()\n",
    "    way_tags_writer.writeheader()\n",
    "\n",
    "    for element in get_element(OSM_FILE):\n",
    "        element.set('add','True')\n",
    "        element=clean_street_words(element)\n",
    "        element=clean_zip_codes(element)\n",
    "        element=clean_phone_numbers(element)\n",
    "        element=clean_counties(element)\n",
    "        element=clean_cities(element)\n",
    "        if element.attrib['add']=='False':\n",
    "            continue\n",
    "        el = shape_element(element)\n",
    "        if el:\n",
    "            if element.tag == 'node':\n",
    "                nodes_writer.writerow(el['node'])\n",
    "                node_tags_writer.writerows(el['node_tags'])\n",
    "            elif element.tag == 'way':\n",
    "                ways_writer.writerow(el['way'])\n",
    "                way_nodes_writer.writerows(el['way_nodes'])\n",
    "                way_tags_writer.writerows(el['way_tags'])"
   ]
  },
  {
   "cell_type": "markdown",
   "metadata": {},
   "source": [
    "# 4. Data analysis\n",
    "I have created the tables in the database using the schema found here:\n",
    "https://gist.github.com/swwelch/f1144229848b407e0a5d13fcb7fbbd6f\n",
    "\n",
    "## File sizes"
   ]
  },
  {
   "cell_type": "raw",
   "metadata": {},
   "source": [
    "NYC.OSM          - 70,825 KB\n",
    "OpenStreetMap.db - 41,538 KB\n",
    "nodes.csv        - 22,444 KB\n",
    "nodes_tags.csv   - 2,527 KB\n",
    "ways.csv         - 2,892 KB\n",
    "ways_nodes.csv   - 8,906 KB\n",
    "ways_tags.csv    - 8,126 KB"
   ]
  },
  {
   "cell_type": "markdown",
   "metadata": {
    "collapsed": true
   },
   "source": [
    "## No. of nodes, ways and users\n",
    "Let us write some queries to check the no. of nodes, ways and the no. of unique users in the database."
   ]
  },
  {
   "cell_type": "code",
   "execution_count": 120,
   "metadata": {
    "collapsed": false
   },
   "outputs": [
    {
     "name": "stdout",
     "output_type": "stream",
     "text": [
      "No. of nodes:  249935\n",
      "No. of ways:  44323\n",
      "No. of unique users:  1095\n"
     ]
    }
   ],
   "source": [
    "c=connect_db()\n",
    "\n",
    "# No. of nodes\n",
    "query = 'SELECT COUNT(*) FROM NODES'\n",
    "print \"No. of nodes: \", execute_query(c,query)[[0]][0][0]\n",
    "\n",
    "# No. of ways\n",
    "query = 'SELECT COUNT(*) FROM WAYS'\n",
    "print \"No. of ways: \", execute_query(c,query)[[0]][0][0]\n",
    "\n",
    "# No. of distinct users from both nodes and ways tables\n",
    "query = 'SELECT COUNT(*) FROM (SELECT DISTINCT(UID) FROM NODES UNION SELECT DISTINCT(UID) FROM WAYS)'\n",
    "print \"No. of unique users: \", execute_query(c,query)[[0]][0][0]"
   ]
  },
  {
   "cell_type": "markdown",
   "metadata": {},
   "source": [
    "## Additional data analysis\n",
    "Let us do some additional analysis of the data in the database. There are various types of amenities in the NYC area. Let's find out which ones are the most common."
   ]
  },
  {
   "cell_type": "markdown",
   "metadata": {},
   "source": [
    "### Top amenities by count"
   ]
  },
  {
   "cell_type": "code",
   "execution_count": 112,
   "metadata": {
    "collapsed": false,
    "scrolled": false
   },
   "outputs": [
    {
     "data": {
      "image/png": "[encoded data removed]",
      "text/plain": [
       "<matplotlib.figure.Figure at 0x18db6f28>"
      ]
     },
     "metadata": {},
     "output_type": "display_data"
    }
   ],
   "source": [
    "def groupByPlot(df,title,xlabel):\n",
    "    plt.figure(figsize=(16,4))\n",
    "    plt.bar(range(len(df)),df[1].tolist())\n",
    "    plt.xticks(range(len(df)),df[0].tolist(),rotation='vertical')\n",
    "    plt.ylabel('Count')\n",
    "    plt.xlabel(xlabel)\n",
    "    plt.title(title)\n",
    "    \n",
    "query = 'SELECT VALUE, COUNT(*) FROM NODES_TAGS WHERE KEY=\"amenity\" GROUP BY VALUE ORDER BY COUNT(*) DESC LIMIT 10'\n",
    "df=pd.DataFrame(execute_query(c,query))\n",
    "\n",
    "groupByPlot(df,'Most common amenities','Amenity')"
   ]
  },
  {
   "cell_type": "markdown",
   "metadata": {},
   "source": [
    "### Bicycle parking - capacity\n",
    "Let us investigate the bicycle parking spaces. I noticed that most of the bicycle parking nodes have a capacity tag too. Can we find out the total bicycle parking capacity in New York City?"
   ]
  },
  {
   "cell_type": "code",
   "execution_count": 113,
   "metadata": {
    "collapsed": false
   },
   "outputs": [
    {
     "name": "stdout",
     "output_type": "stream",
     "text": [
      "6460\n"
     ]
    }
   ],
   "source": [
    "query = 'SELECT VALUE FROM NODES_TAGS WHERE KEY=\"capacity\" AND ID IN (SELECT ID FROM NODES_TAGS WHERE KEY=\"amenity\" AND VALUE=\"bicycle_parking\")'\n",
    "df=execute_query(c,query)\n",
    "\n",
    "print sum(pd.to_numeric(df[0]))"
   ]
  },
  {
   "cell_type": "markdown",
   "metadata": {},
   "source": [
    "### Restaurants, cafes and bars\n",
    "Which localities have the highest number of restaurants, cafes and bars? Let us try grouping the amenities by zipcode."
   ]
  },
  {
   "cell_type": "code",
   "execution_count": 114,
   "metadata": {
    "collapsed": false,
    "scrolled": false
   },
   "outputs": [
    {
     "data": {
      "text/plain": [
       "<matplotlib.figure.Figure at 0x18d68b38>"
      ]
     },
     "metadata": {},
     "output_type": "display_data"
    },
    {
     "data": {
      "image/png": "[encoded data removed]",
      "text/plain": [
       "<matplotlib.figure.Figure at 0x1a0ceb38>"
      ]
     },
     "metadata": {},
     "output_type": "display_data"
    },
    {
     "data": {
      "image/png": "[encoded data removed]",
      "text/plain": [
       "<matplotlib.figure.Figure at 0x18d4a518>"
      ]
     },
     "metadata": {},
     "output_type": "display_data"
    },
    {
     "data": {
      "image/png": "[encoded data removed]",
      "text/plain": [
       "<matplotlib.figure.Figure at 0x19c2cba8>"
      ]
     },
     "metadata": {},
     "output_type": "display_data"
    }
   ],
   "source": [
    "def amenities_by_zipcode(c,amenity):\n",
    "    query='SELECT VALUE, COUNT(*) FROM NODES_TAGS WHERE KEY=\"postcode\" AND ID IN (SELECT ID FROM NODES_TAGS WHERE KEY=\"amenity\" AND VALUE=\"'+amenity+'\") GROUP BY VALUE ORDER BY COUNT(*) DESC'\n",
    "    return execute_query(c,query)\n",
    "\n",
    "amenities=['restaurant','cafe','bar']\n",
    "\n",
    "for i in range(len(amenities)):\n",
    "    plt.figure(i)\n",
    "    df=amenities_by_zipcode(c,amenities[i])\n",
    "    groupByPlot(df,'No. of '+amenities[i]+'s by zipcode','Zipcode')"
   ]
  },
  {
   "cell_type": "markdown",
   "metadata": {},
   "source": [
    "### Ways\n",
    "Let us focus on the way tags now. How many one-way roads are in the map area we selected?"
   ]
  },
  {
   "cell_type": "code",
   "execution_count": 115,
   "metadata": {
    "collapsed": false
   },
   "outputs": [
    {
     "name": "stdout",
     "output_type": "stream",
     "text": [
      "  One-way?  Count\n",
      "0       no    333\n",
      "1      yes   2295\n"
     ]
    }
   ],
   "source": [
    "query = 'SELECT VALUE, COUNT(*) FROM WAYS_TAGS WHERE KEY=\"oneway\" AND VALUE IN (\"yes\",\"no\") GROUP BY VALUE'\n",
    "df=execute_query(c,query)\n",
    "df.columns=['One-way?','Count']\n",
    "print df"
   ]
  },
  {
   "cell_type": "markdown",
   "metadata": {},
   "source": [
    "A majority of the ways are one-way. It's not surprising. But there are only around 2500 ways tagged with Yes or No? Hmmm..."
   ]
  },
  {
   "cell_type": "markdown",
   "metadata": {
    "collapsed": true
   },
   "source": [
    "Which ways have the highest number of nodes and tags?"
   ]
  },
  {
   "cell_type": "code",
   "execution_count": 116,
   "metadata": {
    "collapsed": false
   },
   "outputs": [
    {
     "name": "stdout",
     "output_type": "stream",
     "text": [
      "          ID                      Name  No. of nodes\n",
      "0   27459219        Liberty State Park           259\n",
      "1  400014249                 Manhattan           187\n",
      "2   96021655  Hudson-Bergen Light Rail           161\n",
      "3   56469108      Brooklyn Bridge Park           149\n",
      "4   11629982  Hudson-Bergen Light Rail           148\n",
      "5  442439749      East River Esplanade           136\n",
      "6  109442847        Brooklyn Navy Yard           124\n",
      "7  278076378                   75 Wall           123\n",
      "8  391259934       Williamsburg Bridge           115\n",
      "9  241856540             Cadman Towers           114\n"
     ]
    }
   ],
   "source": [
    "query = 'SELECT A.ID, B.VALUE, COUNT(*) FROM WAYS_NODES A, WAYS_TAGS B WHERE A.ID=B.ID AND B.KEY=\"name\" GROUP BY A.ID ORDER BY COUNT(*) DESC LIMIT 10'\n",
    "df=execute_query(c,query)\n",
    "df.columns=['ID','Name','No. of nodes']\n",
    "print df"
   ]
  },
  {
   "cell_type": "code",
   "execution_count": 117,
   "metadata": {
    "collapsed": false
   },
   "outputs": [
    {
     "name": "stdout",
     "output_type": "stream",
     "text": [
      "          ID                        Name  No. of tags\n",
      "0   46714308      Long Island Expressway           24\n",
      "1   46722009      Long Island Expressway           24\n",
      "2  264768896           Flatiron Building           24\n",
      "3  278039438          John Street Church           24\n",
      "4   46722012      Long Island Expressway           23\n",
      "5   46819901  Brooklyn-Queens Expressway           23\n",
      "6  122625703  Brooklyn-Queens Expressway           23\n",
      "7  147229978      One World Trade Center           23\n",
      "8  183103093  Brooklyn-Queens Expressway           23\n",
      "9  183103103  Brooklyn-Queens Expressway           23\n"
     ]
    }
   ],
   "source": [
    "query = 'SELECT A.ID, B.VALUE, COUNT(*) FROM WAYS_TAGS A, WAYS_TAGS B WHERE A.ID=B.ID AND B.KEY=\"name\" GROUP BY A.ID ORDER BY COUNT(*) DESC LIMIT 10'\n",
    "df=execute_query(c,query)\n",
    "df.columns=['ID','Name','No. of tags']\n",
    "print df"
   ]
  },
  {
   "cell_type": "markdown",
   "metadata": {},
   "source": [
    "### Geographical plotting\n",
    "I want to make use of the latlon data in the XML file and plot some points of interest on a geographical map. Let us look at the restaurants, cafes and bars in the NYC area. I will use the plotly package to create this plot $^{[3]}$"
   ]
  },
  {
   "cell_type": "code",
   "execution_count": 118,
   "metadata": {
    "collapsed": false
   },
   "outputs": [
    {
     "data": {
      "text/html": [
       "<iframe id=\"igraph\" scrolling=\"no\" style=\"border:none;\" seamless=\"seamless\" src=\"https://plot.ly/~meetnaren/48.embed\" height=\"525px\" width=\"100%\"></iframe>"
      ],
      "text/plain": [
       "<plotly.tools.PlotlyDisplay object>"
      ]
     },
     "execution_count": 118,
     "metadata": {},
     "output_type": "execute_result"
    }
   ],
   "source": [
    "query = 'SELECT A.LAT, A.LON, B.VALUE, C.VALUE FROM NODES A, NODES_TAGS B, NODES_TAGS C WHERE A.ID=B.ID AND B.ID=C.ID AND B.KEY=\"amenity\" AND B.VALUE IN (\"restaurant\", \"cafe\", \"bar\") AND C.KEY=\"name\"'\n",
    "df=execute_query(c,query)\n",
    "df.columns=['Lat','Lon','Amenity_type','Name']\n",
    "\n",
    "data=Data([\n",
    "    Scattermapbox(\n",
    "        lat=df['Lat'],\n",
    "        lon=df['Lon'],\n",
    "        mode='markers',\n",
    "        marker=Marker(\n",
    "            size=5,\n",
    "            color=df['Amenity_type'].astype('category').cat.codes.values,\n",
    "            colorscale='Viridis',\n",
    "            #showscale=True\n",
    "            colorbar=dict(\n",
    "                tickmode='array',\n",
    "                tickvals=[0,1,2],\n",
    "                ticktext=['bar','cafe','restaurant'],\n",
    "                ticks='inside'\n",
    "            )\n",
    "        ),\n",
    "        text=df['Name']        \n",
    "    )\n",
    "])\n",
    "\n",
    "layout=Layout(\n",
    "    autosize=True,\n",
    "    hovermode='closest',\n",
    "    mapbox=dict(\n",
    "        accesstoken=mapbox_access_token,\n",
    "        bearing=0,\n",
    "        center=dict(\n",
    "            lat=40.71955,\n",
    "            lon=-73.9858\n",
    "        ),\n",
    "        pitch=0,\n",
    "        zoom=12\n",
    "    ),\n",
    "    showlegend=False\n",
    ")\n",
    "\n",
    "fig = dict(data=data, layout=layout)\n",
    "\n",
    "pltly.plotly.iplot(fig)\n"
   ]
  },
  {
   "cell_type": "markdown",
   "metadata": {},
   "source": [
    "We can see that while there are a lot of restaurants and cafes in the Financial district, there are a lot of bars in the East Village area."
   ]
  },
  {
   "cell_type": "markdown",
   "metadata": {},
   "source": [
    "# Other ideas about the dataset\n",
    "I could see that there are quite a number of problems with the dataset.\n",
    "* There are many businesses that are missing from the dataset. This could be because \n",
    "    * Businesses are not as interested in adding their data on OpenStreetMap as they are in adding them on Google Maps\n",
    "    * Contributors are not inclined to add business data\n",
    "* Addresses are missing for many buildings in the dataset. Even though we cleaned up the data to remove nodes from the New Jersey area, we could see in the geographical plot that there are some nodes that still show up in New Jersey. This was due to the lack of zipcodes attached to these nodes\n",
    "* The total no. of ways in the dataset was around 44k. But, as we saw in one of the queries, only around 2500 ways were tagged with the one-way key. Improving this data would highly improve accuracy of routing directions from one node to another\n",
    "\n",
    "Having said that, I should also mention that given that all the data in OpenStreetMap is sourced from voluntary contributors, the level of detail available is really astounding. OpenStreetMap is an absolute treasure trove of information and I think with time, the accuracy and quantity of information will definitely improve."
   ]
  },
  {
   "cell_type": "markdown",
   "metadata": {},
   "source": [
    "# References\n",
    "1. Phone numbers with a missing digit:\n",
    "    * http://www.cafekatja.com/\n",
    "    * https://www.pepolino.com\n",
    "2. Closed way: http://wiki.openstreetmap.org/wiki/Way#Closed_way\n",
    "3. https://plot.ly/python/scattermapbox/"
   ]
  }
 ],
 "metadata": {
  "anaconda-cloud": {},
  "kernelspec": {
   "display_name": "Python [conda root]",
   "language": "python",
   "name": "conda-root-py"
  },
  "language_info": {
   "codemirror_mode": {
    "name": "ipython",
    "version": 2
   },
   "file_extension": ".py",
   "mimetype": "text/x-python",
   "name": "python",
   "nbconvert_exporter": "python",
   "pygments_lexer": "ipython2",
   "version": "2.7.12"
  }
 },
 "nbformat": 4,
 "nbformat_minor": 2
}
